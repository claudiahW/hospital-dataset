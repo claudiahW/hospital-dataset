{
 "cells": [
  {
   "cell_type": "code",
   "execution_count": 2,
   "id": "1e6c1d8c",
   "metadata": {},
   "outputs": [],
   "source": [
    "# Import necessary functions\n",
    "\n",
    "from sklearn.linear_model import LogisticRegression\n",
    "from sklearn.model_selection import train_test_split\n",
    "import pandas as pd\n",
    "import numpy as np\n"
   ]
  },
  {
   "cell_type": "code",
   "execution_count": 11,
   "id": "5ab22eec",
   "metadata": {},
   "outputs": [
    {
     "data": {
      "text/html": [
       "<div>\n",
       "<style scoped>\n",
       "    .dataframe tbody tr th:only-of-type {\n",
       "        vertical-align: middle;\n",
       "    }\n",
       "\n",
       "    .dataframe tbody tr th {\n",
       "        vertical-align: top;\n",
       "    }\n",
       "\n",
       "    .dataframe thead th {\n",
       "        text-align: right;\n",
       "    }\n",
       "</style>\n",
       "<table border=\"1\" class=\"dataframe\">\n",
       "  <thead>\n",
       "    <tr style=\"text-align: right;\">\n",
       "      <th></th>\n",
       "      <th>age</th>\n",
       "      <th>sex</th>\n",
       "      <th>cp</th>\n",
       "      <th>trestbps</th>\n",
       "      <th>chol</th>\n",
       "      <th>fbs</th>\n",
       "      <th>restecg</th>\n",
       "      <th>thalach</th>\n",
       "      <th>exang</th>\n",
       "      <th>oldpeak</th>\n",
       "      <th>slope</th>\n",
       "      <th>ca</th>\n",
       "      <th>thal</th>\n",
       "      <th>target</th>\n",
       "    </tr>\n",
       "  </thead>\n",
       "  <tbody>\n",
       "    <tr>\n",
       "      <th>0</th>\n",
       "      <td>63</td>\n",
       "      <td>1</td>\n",
       "      <td>3</td>\n",
       "      <td>145</td>\n",
       "      <td>233</td>\n",
       "      <td>1</td>\n",
       "      <td>0</td>\n",
       "      <td>150</td>\n",
       "      <td>0</td>\n",
       "      <td>2.3</td>\n",
       "      <td>0</td>\n",
       "      <td>0</td>\n",
       "      <td>1</td>\n",
       "      <td>1</td>\n",
       "    </tr>\n",
       "    <tr>\n",
       "      <th>1</th>\n",
       "      <td>37</td>\n",
       "      <td>1</td>\n",
       "      <td>2</td>\n",
       "      <td>130</td>\n",
       "      <td>250</td>\n",
       "      <td>0</td>\n",
       "      <td>1</td>\n",
       "      <td>187</td>\n",
       "      <td>0</td>\n",
       "      <td>3.5</td>\n",
       "      <td>0</td>\n",
       "      <td>0</td>\n",
       "      <td>2</td>\n",
       "      <td>1</td>\n",
       "    </tr>\n",
       "    <tr>\n",
       "      <th>2</th>\n",
       "      <td>41</td>\n",
       "      <td>0</td>\n",
       "      <td>1</td>\n",
       "      <td>130</td>\n",
       "      <td>204</td>\n",
       "      <td>0</td>\n",
       "      <td>0</td>\n",
       "      <td>172</td>\n",
       "      <td>0</td>\n",
       "      <td>1.4</td>\n",
       "      <td>2</td>\n",
       "      <td>0</td>\n",
       "      <td>2</td>\n",
       "      <td>1</td>\n",
       "    </tr>\n",
       "    <tr>\n",
       "      <th>3</th>\n",
       "      <td>56</td>\n",
       "      <td>1</td>\n",
       "      <td>1</td>\n",
       "      <td>120</td>\n",
       "      <td>236</td>\n",
       "      <td>0</td>\n",
       "      <td>1</td>\n",
       "      <td>178</td>\n",
       "      <td>0</td>\n",
       "      <td>0.8</td>\n",
       "      <td>2</td>\n",
       "      <td>0</td>\n",
       "      <td>2</td>\n",
       "      <td>1</td>\n",
       "    </tr>\n",
       "    <tr>\n",
       "      <th>4</th>\n",
       "      <td>57</td>\n",
       "      <td>0</td>\n",
       "      <td>0</td>\n",
       "      <td>120</td>\n",
       "      <td>354</td>\n",
       "      <td>0</td>\n",
       "      <td>1</td>\n",
       "      <td>163</td>\n",
       "      <td>1</td>\n",
       "      <td>0.6</td>\n",
       "      <td>2</td>\n",
       "      <td>0</td>\n",
       "      <td>2</td>\n",
       "      <td>1</td>\n",
       "    </tr>\n",
       "  </tbody>\n",
       "</table>\n",
       "</div>"
      ],
      "text/plain": [
       "   age  sex  cp  trestbps  chol  fbs  restecg  thalach  exang  oldpeak  slope  \\\n",
       "0   63    1   3       145   233    1        0      150      0      2.3      0   \n",
       "1   37    1   2       130   250    0        1      187      0      3.5      0   \n",
       "2   41    0   1       130   204    0        0      172      0      1.4      2   \n",
       "3   56    1   1       120   236    0        1      178      0      0.8      2   \n",
       "4   57    0   0       120   354    0        1      163      1      0.6      2   \n",
       "\n",
       "   ca  thal  target  \n",
       "0   0     1       1  \n",
       "1   0     2       1  \n",
       "2   0     2       1  \n",
       "3   0     2       1  \n",
       "4   0     2       1  "
      ]
     },
     "execution_count": 11,
     "metadata": {},
     "output_type": "execute_result"
    }
   ],
   "source": [
    "#Import data\n",
    "\n",
    "heart_data = pd.read_csv('heart.csv')\n",
    "\n",
    "heart_data.head()"
   ]
  },
  {
   "cell_type": "code",
   "execution_count": null,
   "id": "540541b3",
   "metadata": {},
   "outputs": [],
   "source": [
    "# Split the data into featurs(x) and targets(y)\n",
    "\n",
    "X = heart_data.drop(columns=['target'])\n",
    "y = heart_data['target']\n"
   ]
  },
  {
   "cell_type": "code",
   "execution_count": null,
   "id": "50031a88",
   "metadata": {},
   "outputs": [
    {
     "data": {
      "text/plain": [
       "{(76,), (76, 13), (227,), (227, 13)}"
      ]
     },
     "execution_count": 14,
     "metadata": {},
     "output_type": "execute_result"
    }
   ],
   "source": [
    "#Split the data into training and test sets with 25% test size and random_state=0 for reproducibility\n",
    "\n",
    "X_train, X_test, y_train, y_test = train_test_split(X, y, test_size=0.25, random_state=0)\n",
    "\n",
    "#confirming the split\n",
    "{X_train.shape, X_test.shape, y_train.shape, y_test.shape}"
   ]
  },
  {
   "cell_type": "code",
   "execution_count": null,
   "id": "25f9d943",
   "metadata": {},
   "outputs": [],
   "source": [
    "# normalize the data\n",
    "\n",
    "\n",
    "# Your code here\n",
    "X = None\n",
    "X.head()"
   ]
  },
  {
   "cell_type": "code",
   "execution_count": null,
   "id": "3caeffc9",
   "metadata": {},
   "outputs": [],
   "source": [
    "# Instantiate(create object from a class) the model using logisticRegression\n",
    "logreg = LogisticRegression(fit_intercept=False, solver='liblinear')\n",
    "\n",
    "# Fit the model to training data\n",
    "\n",
    "model_log = logreg.fit(X_train, y_train)\n",
    "\n",
    "#display the fitted model \n",
    "model_log\n"
   ]
  },
  {
   "cell_type": "code",
   "execution_count": 17,
   "id": "ef1d39f9",
   "metadata": {},
   "outputs": [],
   "source": [
    "#function to calculate precision \n",
    "# the .ravel() function in python , particularly when used alongside numpy arrays, flattens a multi-dimensional array into a one-dimensional array.\n",
    "\n",
    "from sklearn.metrics import confusion_matrix\n",
    "\n",
    "\n",
    "def precision(y,y_hat):\n",
    "    #calculate precision\n",
    "   tn, fp, fn, tp = confusion_matrix(y,y_hat).ravel()\n",
    "   precision_score = tp / (tp + fp) if (tp * fp) != 0 else 0\n",
    "   return precision_score  "
   ]
  },
  {
   "cell_type": "code",
   "execution_count": 18,
   "id": "cf645291",
   "metadata": {},
   "outputs": [],
   "source": [
    "# function to calculate recall\n",
    "\n",
    "def recall(y, y_hat):\n",
    "    #calculate recall\n",
    "     tn, fp, fn, tp = confusion_matrix(y,y_hat).ravel()\n",
    "     recall_score = tp / (tp + fn) if (tp + fn) != 0 else 0\n",
    "     return recall_score  \n"
   ]
  },
  {
   "cell_type": "code",
   "execution_count": 19,
   "id": "7a391001",
   "metadata": {},
   "outputs": [],
   "source": [
    "# function to calculate accuracy\n",
    "\n",
    "def accuracy(y, y_hat):\n",
    "    #calculate recall\n",
    "     tn, fp, fn, tp = confusion_matrix(y,y_hat).ravel()\n",
    "     accuracy_score = ( tp + tn) / (tp + tn + fp + fn )\n",
    "     return accuracy_score  "
   ]
  },
  {
   "cell_type": "code",
   "execution_count": null,
   "id": "53a5a6c4",
   "metadata": {},
   "outputs": [],
   "source": [
    "# function to calculate F1 Score\n",
    "\n",
    "def f1_score(y, y_hat):\n",
    "    #calculate f1 score\n",
    "     tn, fp, fn, tp = confusion_matrix(y,y_hat).ravel()\n",
    "     precision_score = tp / (tp + fp) if (tp * fp) != 0 else 0\n",
    "     recall_score = tp / (tp + fn) if (tp + fn) != 0 else 0\n",
    "     f1 = (2 * precision_score * recall_score) / (precision_score + recall_score) if (precision_score + recall_score) != 0 else 0\n",
    "     return f1 "
   ]
  },
  {
   "cell_type": "code",
   "execution_count": 41,
   "id": "f7006669",
   "metadata": {},
   "outputs": [],
   "source": [
    "# calculate the precision, recall, accuracy and f1 score of the classifier \n",
    "# do this for both train and test data\n",
    "\n",
    "y_hat_train = model_log.predict(X_train)\n",
    "y_hat_test = model_log.predict(X_test)\n",
    "\n",
    "#calculate metrics for the training set\n",
    "\n",
    "precision_train = precision(y_train, y_hat_train)\n",
    "recall_train = recall(y_train, y_hat_train)\n",
    "accuracy_train = accuracy(y_train, y_hat_train)\n",
    "f1_train = f1_score(y_train, y_hat_train)\n",
    "\n",
    "#calculate metrics for the test set\n",
    "\n",
    "precision_test = precision(y_test, y_hat_test)\n",
    "recall_test = recall(y_test, y_hat_test)\n",
    "accuracy_test = accuracy(y_test, y_hat_test)\n",
    "f1_test = f1_score(y_test, y_hat_test)\n",
    "\n"
   ]
  },
  {
   "cell_type": "code",
   "execution_count": 42,
   "id": "fed5bf43",
   "metadata": {},
   "outputs": [
    {
     "name": "stdout",
     "output_type": "stream",
     "text": [
      "Training Set Metrics:\n",
      "Precision: 0.8346\n",
      "Recall: 0.9098\n",
      "Accuracy: 0.8546\n",
      "F1 Score: 0.9098\n",
      "\n",
      "Test Set Metrics:\n",
      "Precision: 0.8125\n",
      "Recall: 0.9070\n",
      "Accuracy: 0.8289\n",
      "F1 Score: 0.9070\n"
     ]
    }
   ],
   "source": [
    "# displaying the results \n",
    "\n",
    "print(\"Training Set Metrics:\")\n",
    "print(f\"Precision: {precision_train:.4f}\")\n",
    "print(f\"Recall: {recall_train:.4f}\")\n",
    "print(f\"Accuracy: {accuracy_train:.4f}\")\n",
    "print(f\"F1 Score: {f1_train:.4f}\")\n",
    "\n",
    "print(\"\\nTest Set Metrics:\")\n",
    "print(f\"Precision: {precision_test:.4f}\")\n",
    "print(f\"Recall: {recall_test:.4f}\")\n",
    "print(f\"Accuracy: {accuracy_test:.4f}\")\n",
    "print(f\"F1 Score: {f1_test:.4f}\")\n"
   ]
  }
 ],
 "metadata": {
  "kernelspec": {
   "display_name": "base",
   "language": "python",
   "name": "python3"
  },
  "language_info": {
   "codemirror_mode": {
    "name": "ipython",
    "version": 3
   },
   "file_extension": ".py",
   "mimetype": "text/x-python",
   "name": "python",
   "nbconvert_exporter": "python",
   "pygments_lexer": "ipython3",
   "version": "3.12.7"
  }
 },
 "nbformat": 4,
 "nbformat_minor": 5
}
